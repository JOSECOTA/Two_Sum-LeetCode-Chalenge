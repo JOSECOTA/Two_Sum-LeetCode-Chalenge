{
 "cells": [
  {
   "cell_type": "code",
   "execution_count": 6,
   "id": "155716ee",
   "metadata": {},
   "outputs": [],
   "source": [
    "'''Given an array of integers nums and an integer target, return indices of the two numbers such that they add up to target.\n",
    "\n",
    "You may assume that each input would have exactly one solution, and you may not use the same element twice.\n",
    "\n",
    "You can return the answer in any order.'''\n",
    "\n",
    "def two_sun(nums, target):\n",
    "    for num in range(0, len(nums) - 1):\n",
    "        total = nums[num] \n",
    "        for num_to_add in range(num + 1, len(nums)):\n",
    "            if total + nums[num_to_add] == target:\n",
    "                return[num, num_to_add]\n",
    "\n",
    "\n"
   ]
  },
  {
   "cell_type": "code",
   "execution_count": null,
   "id": "890db0a1",
   "metadata": {},
   "outputs": [],
   "source": []
  },
  {
   "cell_type": "code",
   "execution_count": null,
   "id": "752487de",
   "metadata": {},
   "outputs": [],
   "source": []
  }
 ],
 "metadata": {
  "kernelspec": {
   "display_name": "Python 3 (ipykernel)",
   "language": "python",
   "name": "python3"
  },
  "language_info": {
   "codemirror_mode": {
    "name": "ipython",
    "version": 3
   },
   "file_extension": ".py",
   "mimetype": "text/x-python",
   "name": "python",
   "nbconvert_exporter": "python",
   "pygments_lexer": "ipython3",
   "version": "3.9.7"
  }
 },
 "nbformat": 4,
 "nbformat_minor": 5
}
